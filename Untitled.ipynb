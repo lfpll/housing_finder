{
 "cells": [
  {
   "cell_type": "code",
   "execution_count": 1,
   "metadata": {},
   "outputs": [
    {
     "name": "stdout",
     "output_type": "stream",
     "text": [
      "3403\n",
      "Dale\n"
     ]
    },
    {
     "data": {
      "application/vnd.jupyter.widget-view+json": {
       "model_id": "18b666f7b5a5474b95c3c749cd2d60a2",
       "version_major": 2,
       "version_minor": 0
      },
      "text/plain": [
       "Figure(layout=FigureLayout(height='420px'))"
      ]
     },
     "metadata": {},
     "output_type": "display_data"
    }
   ],
   "source": [
    "import gmaps\n",
    "from pymongo import MongoClient\n",
    "from distance import distance\n",
    "client = MongoClient()\n",
    "\n",
    "coll = client['imoveis']['zap']\n",
    "intrs= list(coll.find({'Area':{\"$gte\":50}},{'Latitude':1,'Longitude':1,'Valor':1,'PrecoCondominio':1,'UrlFicha':1}))\n",
    "print(len(intrs))\n",
    "aptos = []\n",
    "\n",
    "for apto in intrs:\n",
    "\tlocation = tuple((float(apto['Latitude']),float(apto['Longitude'])))\n",
    "\tif apto['PrecoCondominio'] and apto['PrecoCondominio'].find('R$') > -1:\n",
    "\t\tcondominio = float(apto['PrecoCondominio'].split(\"R$\")[1])\n",
    "\telse:\n",
    "\t\tcondominio = float(apto['PrecoCondominio'])\n",
    "\tif apto['Valor'] and apto['Valor'].find('R$') > -1:\n",
    "\t\tvalor = float(apto['Valor'].split(\"R$\")[1].replace('.',''))\n",
    "\telse:\n",
    "\t\tvalor = float(apto['Valor'])\n",
    "\tif(valor + condominio) <= 1500 and distance((-25.4344698,-49.2788269),location)<3:\n",
    "\t\taptos.append({'price':valor+condominio,'location':location,'UrlFicha':apto['UrlFicha']})\n",
    "\n",
    "plant_locations = [plant['location'] for plant in aptos]\n",
    "info_box_template = \"\"\"\n",
    "<dl>\n",
    "<dt>price</dt><dd>{price}</dd>\n",
    "<a href=\"{UrlFicha}\"<dt>UrlFicha</dt>/>\n",
    "</dl>   \n",
    "\"\"\"\n",
    "\n",
    "plant_info = [info_box_template.format(**plant) for plant in aptos]\n",
    "print('Dale')\n",
    "marker_layer = gmaps.marker_layer(plant_locations,info_box_content=plant_info)\n",
    "fig = gmaps.figure(center=(-25.4344698,-49.2788269),zoom_level=18)\n",
    "fig.add_layer(marker_layer)\n",
    "fig\n"
   ]
  },
  {
   "cell_type": "code",
   "execution_count": null,
   "metadata": {},
   "outputs": [],
   "source": []
  }
 ],
 "metadata": {
  "kernelspec": {
   "display_name": "Python 3",
   "language": "python",
   "name": "python3"
  },
  "language_info": {
   "codemirror_mode": {
    "name": "ipython",
    "version": 3
   },
   "file_extension": ".py",
   "mimetype": "text/x-python",
   "name": "python",
   "nbconvert_exporter": "python",
   "pygments_lexer": "ipython3",
   "version": "3.7.1"
  }
 },
 "nbformat": 4,
 "nbformat_minor": 2
}
